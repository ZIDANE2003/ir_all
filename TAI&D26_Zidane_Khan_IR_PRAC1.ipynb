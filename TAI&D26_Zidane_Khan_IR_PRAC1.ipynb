{
  "nbformat": 4,
  "nbformat_minor": 0,
  "metadata": {
    "colab": {
      "provenance": []
    },
    "kernelspec": {
      "name": "python3",
      "display_name": "Python 3"
    },
    "language_info": {
      "name": "python"
    }
  },
  "cells": [
    {
      "cell_type": "markdown",
      "source": [
        "IR PRACTICAL 1 -TEXT PREPROCESS [WORD_TOKENIZE, STOP WORD REMOVAL]\n",
        "NAME:Zidane Khan , Rollno:TAI&D26"
      ],
      "metadata": {
        "id": "-s1B_M10DFW2"
      }
    },
    {
      "cell_type": "code",
      "execution_count": null,
      "metadata": {
        "colab": {
          "base_uri": "https://localhost:8080/"
        },
        "id": "H3jH3PaTwcJM",
        "outputId": "1af3f821-0a7e-4377-ed3e-75f7c048789b"
      },
      "outputs": [
        {
          "output_type": "stream",
          "name": "stdout",
          "text": [
            "['I believe this would help the reader understand how tokenization         works.', 'as well as realize its importance.']\n",
            "['I', 'believe', 'this', 'would', 'help', 'the', 'reader', 'understand', 'how', 'tokenization', 'works', '.', 'as', 'well', 'as', 'realize', 'its', 'importance', '.']\n"
          ]
        },
        {
          "output_type": "stream",
          "name": "stderr",
          "text": [
            "[nltk_data] Downloading package punkt to /root/nltk_data...\n",
            "[nltk_data]   Package punkt is already up-to-date!\n"
          ]
        }
      ],
      "source": [
        "\n",
        "#Tokenization\n",
        "#Importing libraries\n",
        "import nltk\n",
        "nltk.download('punkt')\n",
        "from nltk.tokenize import word_tokenize, sent_tokenize\n",
        "\n",
        "text = \"I believe this would help the reader understand how tokenization \\\n",
        "        works. as well as realize its importance.\"\n",
        "\n",
        "\n",
        "# for senetnce tokenize\n",
        "print(sent_tokenize(text))\n",
        "# for word tokenize\n",
        "print (word_tokenize(text))\n"
      ]
    },
    {
      "cell_type": "code",
      "source": [
        "#STOP WORDS REMOVAL\n",
        "#Import libraries\n",
        "from nltk.tokenize import word_tokenize\n",
        "from nltk.corpus import stopwords\n",
        "from string import punctuation\n",
        "nltk.download('stopwords')\n",
        "\n",
        "text = \"I believe this would help the reader understand how tokenization \\\n",
        "        works. as well as realize its importance (text) .\"\n",
        "\n",
        "custom_list = set(stopwords.words('english')+list(punctuation))\n",
        "\n",
        "word_list = [word for word in word_tokenize(text) if word not in custom_list]\n",
        "print(word_list)\n",
        "print(custom_list)\n"
      ],
      "metadata": {
        "colab": {
          "base_uri": "https://localhost:8080/"
        },
        "id": "PRniducdzacQ",
        "outputId": "368e90c7-742c-48ea-a777-c547f748098d"
      },
      "execution_count": null,
      "outputs": [
        {
          "output_type": "stream",
          "name": "stdout",
          "text": [
            "['I', 'believe', 'would', 'help', 'reader', 'understand', 'tokenization', 'works', 'well', 'realize', 'importance', 'text']\n",
            "{'^', 'did', 'by', ')', 'between', 'had', 'whom', 'through', 'here', 'up', 'd', 'were', 'down', '&', \"it's\", 'because', 'yours', \"mustn't\", 'herself', 'themselves', 'yourself', 'then', 'have', 'wasn', 'same', 'hadn', 'a', \"mightn't\", \"isn't\", '$', 'which', 'y', '>', '+', 'ma', 'hers', \"won't\", '{', 'you', 'she', 'some', 'ourselves', 't', '\\\\', 'few', '_', 'any', 'to', 'if', 'm', 'couldn', 'above', 'him', \"you'll\", \"you'd\", '(', ':', ';', 'after', 'is', 'don', 'its', 'too', '|', 'over', 'there', 'do', \"should've\", 'who', 'being', 'at', 'once', 'both', 're', 'doesn', \"wasn't\", 'into', 'the', 'those', 'their', 'but', 'i', 'be', 'from', \"couldn't\", '`', '%', 'for', \"hadn't\", 'what', 'been', 'out', 'only', 'o', 'am', 'haven', 'having', \"didn't\", 'that', 'this', 'them', '=', 'of', 'ours', 'they', 'just', 've', 'wouldn', 'not', 'does', 'didn', ']', 'now', 'under', 'itself', 'myself', 'theirs', \"shouldn't\", '/', 'as', '?', 'how', 'isn', '[', 'shouldn', 'no', 'can', 'all', ',', \"shan't\", \"needn't\", 'it', 'each', 'off', \"hasn't\", 'below', 'should', 'nor', '*', 'will', 'against', \"you're\", 'further', 'are', \"wouldn't\", '<', '!', 'when', 'me', '\"', 'during', '#', 'again', '.', 'these', '@', '}', 'so', 'our', 'won', \"you've\", 'your', 'has', 'himself', 'was', 'weren', \"haven't\", \"'\", '-', 'mightn', 's', 'needn', \"aren't\", 'he', 'my', 'mustn', 'or', 'in', 'ain', 'an', 'such', 'very', 'other', 'hasn', 'before', 'own', 'while', 'with', 'and', \"doesn't\", 'his', \"that'll\", '~', 'most', 'll', 'more', 'yourselves', 'doing', \"don't\", 'than', 'her', 'about', 'aren', 'why', 'shan', \"weren't\", 'where', 'until', 'on', \"she's\", 'we'}\n"
          ]
        },
        {
          "output_type": "stream",
          "name": "stderr",
          "text": [
            "[nltk_data] Downloading package stopwords to /root/nltk_data...\n",
            "[nltk_data]   Package stopwords is already up-to-date!\n"
          ]
        }
      ]
    },
    {
      "cell_type": "code",
      "source": [
        "#stopwords removal conatining separate output of punctuations\n",
        "\n",
        "from nltk.tokenize import word_tokenize\n",
        "from nltk.corpus import stopwords\n",
        "from string import punctuation\n",
        "nltk.download('stopwords')\n",
        "\n",
        "\n",
        "\n",
        "text = \"I believe this would help the reader understand how tokenization \\\n",
        "        works. as well as realize its importance (text) ? ,.\"\n",
        "\n",
        "\n",
        "custom_list=set(stopwords.words('english'))\n",
        "punctuations = '''!()-[]{};:'\"\\,<>./?@#$%^&*_~'''\n",
        "word_list=[]\n",
        "for i in word_tokenize(text):\n",
        "  if i not in custom_list:\n",
        "    if i not in punctuations:\n",
        "      word_list.append(i)\n",
        "\n",
        "punc=[]\n",
        "for i in text:\n",
        "  if i in punctuation:\n",
        "    punc.append(i)\n",
        "\n",
        "print(punc)\n",
        "\n",
        "\n",
        "print(word_list)\n",
        "\n",
        "\n",
        "\n"
      ],
      "metadata": {
        "colab": {
          "base_uri": "https://localhost:8080/"
        },
        "outputId": "8f1a0604-7f23-4057-c239-2c14e35d77db",
        "id": "jOoBltSnDrAI"
      },
      "execution_count": null,
      "outputs": [
        {
          "output_type": "stream",
          "name": "stdout",
          "text": [
            "['.', '(', ')', '?', ',', '.']\n",
            "['I', 'believe', 'would', 'help', 'reader', 'understand', 'tokenization', 'works', 'well', 'realize', 'importance', 'text']\n"
          ]
        },
        {
          "output_type": "stream",
          "name": "stderr",
          "text": [
            "[nltk_data] Downloading package stopwords to /root/nltk_data...\n",
            "[nltk_data]   Package stopwords is already up-to-date!\n"
          ]
        }
      ]
    },
    {
      "cell_type": "code",
      "source": [
        "\n",
        "#Stemming in list form\n",
        "#Import Libraries\n",
        "from nltk.tokenize import word_tokenize\n",
        "from nltk.stem.lancaster import LancasterStemmer\n",
        "\n",
        "new_text = \"It is important to by very pythonly while you are pythoning\\\n",
        "             with python. All pythoners have pythoned poorly at least once.\"\n",
        "\n",
        "l_s =  LancasterStemmer()\n",
        "stem_lan =  [l_s.stem(word) for word in word_tokenize(new_text)]\n",
        "print(stem_lan)"
      ],
      "metadata": {
        "colab": {
          "base_uri": "https://localhost:8080/"
        },
        "id": "mGqZ4ZwazdTb",
        "outputId": "c277a083-0f75-4390-8a03-6a6721295ddf"
      },
      "execution_count": null,
      "outputs": [
        {
          "output_type": "stream",
          "name": "stdout",
          "text": [
            "['it', 'is', 'import', 'to', 'by', 'very', 'python', 'whil', 'you', 'ar', 'python', 'with', 'python', '.', 'al', 'python', 'hav', 'python', 'poor', 'at', 'least', 'ont', '.']\n"
          ]
        }
      ]
    },
    {
      "cell_type": "code",
      "source": [
        "#Stemming in separate form\n",
        "#Import Libraries\n",
        "from nltk.tokenize import word_tokenize\n",
        "from nltk.stem.lancaster import LancasterStemmer\n",
        "\n",
        "new_text = \"It is important to by very pythonly while you are pythoning\\\n",
        "             with python. All pythoners have pythoned poorly at least once.\"\n",
        "\n",
        "\n",
        "l_s=LancasterStemmer()\n",
        "\n",
        "for word in word_tokenize(new_text):\n",
        "\n",
        "  stemming=l_s.stem(word)\n",
        "\n",
        "  print(stemming)\n"
      ],
      "metadata": {
        "colab": {
          "base_uri": "https://localhost:8080/"
        },
        "id": "zK-PNKkY0rr6",
        "outputId": "57b475e7-4738-4a59-8816-33fbb1375ccf"
      },
      "execution_count": null,
      "outputs": [
        {
          "output_type": "stream",
          "name": "stdout",
          "text": [
            "it\n",
            "is\n",
            "import\n",
            "to\n",
            "by\n",
            "very\n",
            "python\n",
            "whil\n",
            "you\n",
            "ar\n",
            "python\n",
            "with\n",
            "python\n",
            ".\n",
            "al\n",
            "python\n",
            "hav\n",
            "python\n",
            "poor\n",
            "at\n",
            "least\n",
            "ont\n",
            ".\n"
          ]
        }
      ]
    },
    {
      "cell_type": "code",
      "source": [
        "#Stemming in separate form\n",
        "#Import Libraries\n",
        "from nltk.tokenize import word_tokenize\n",
        "from nltk.stem.lancaster import LancasterStemmer\n",
        "\n",
        "new_text = \"It is important to by very pythonly while you are 3 pythoning\\\n",
        "             with 45 python. All pythoners have pythoned poorly at least once.\"\n",
        "\n",
        "num_list=set(list(numbers))\n",
        "for i in new_text:\n",
        "\n"
      ],
      "metadata": {
        "id": "HzMXQ8Ms9WHJ"
      },
      "execution_count": null,
      "outputs": []
    }
  ]
}