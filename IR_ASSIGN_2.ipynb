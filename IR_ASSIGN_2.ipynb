{
  "cells": [
    {
      "cell_type": "code",
      "execution_count": null,
      "id": "42adebca",
      "metadata": {
        "id": "42adebca"
      },
      "outputs": [],
      "source": [
        "\n",
        "import nltk\n",
        "from nltk import word_tokenize"
      ]
    },
    {
      "cell_type": "code",
      "execution_count": null,
      "id": "0ea0df3f",
      "metadata": {
        "id": "0ea0df3f",
        "outputId": "e8e8d57c-a8e4-44b9-c255-173a445b2735"
      },
      "outputs": [
        {
          "name": "stderr",
          "output_type": "stream",
          "text": [
            "[nltk_data] Downloading package stopwords to C:\\Users\\Zidane\n",
            "[nltk_data]     Khan\\AppData\\Roaming\\nltk_data...\n",
            "[nltk_data]   Package stopwords is already up-to-date!\n"
          ]
        }
      ],
      "source": [
        "\n",
        "from nltk.corpus import stopwords\n",
        "from string import punctuation\n",
        "nltk.download('stopwords')\n",
        "\n",
        "stop_word_list=set(list(punctuation)+stopwords.words('english'))\n",
        "\n",
        "# stop_word_list = set(list(punctuation) + stopwords.words('english'))"
      ]
    },
    {
      "cell_type": "code",
      "execution_count": null,
      "id": "fde63e5f",
      "metadata": {
        "scrolled": false,
        "id": "fde63e5f",
        "outputId": "970feace-a6ef-480a-bbe2-aa82422f1c33"
      },
      "outputs": [
        {
          "data": {
            "text/plain": [
              "{'!',\n",
              " '\"',\n",
              " '#',\n",
              " '$',\n",
              " '%',\n",
              " '&',\n",
              " \"'\",\n",
              " '(',\n",
              " ')',\n",
              " '*',\n",
              " '+',\n",
              " ',',\n",
              " '-',\n",
              " '.',\n",
              " '/',\n",
              " ':',\n",
              " ';',\n",
              " '<',\n",
              " '=',\n",
              " '>',\n",
              " '?',\n",
              " '@',\n",
              " '[',\n",
              " '\\\\',\n",
              " ']',\n",
              " '^',\n",
              " '_',\n",
              " '`',\n",
              " 'a',\n",
              " 'about',\n",
              " 'above',\n",
              " 'after',\n",
              " 'again',\n",
              " 'against',\n",
              " 'ain',\n",
              " 'all',\n",
              " 'am',\n",
              " 'an',\n",
              " 'and',\n",
              " 'any',\n",
              " 'are',\n",
              " 'aren',\n",
              " \"aren't\",\n",
              " 'as',\n",
              " 'at',\n",
              " 'be',\n",
              " 'because',\n",
              " 'been',\n",
              " 'before',\n",
              " 'being',\n",
              " 'below',\n",
              " 'between',\n",
              " 'both',\n",
              " 'but',\n",
              " 'by',\n",
              " 'can',\n",
              " 'couldn',\n",
              " \"couldn't\",\n",
              " 'd',\n",
              " 'did',\n",
              " 'didn',\n",
              " \"didn't\",\n",
              " 'do',\n",
              " 'does',\n",
              " 'doesn',\n",
              " \"doesn't\",\n",
              " 'doing',\n",
              " 'don',\n",
              " \"don't\",\n",
              " 'down',\n",
              " 'during',\n",
              " 'each',\n",
              " 'few',\n",
              " 'for',\n",
              " 'from',\n",
              " 'further',\n",
              " 'had',\n",
              " 'hadn',\n",
              " \"hadn't\",\n",
              " 'has',\n",
              " 'hasn',\n",
              " \"hasn't\",\n",
              " 'have',\n",
              " 'haven',\n",
              " \"haven't\",\n",
              " 'having',\n",
              " 'he',\n",
              " 'her',\n",
              " 'here',\n",
              " 'hers',\n",
              " 'herself',\n",
              " 'him',\n",
              " 'himself',\n",
              " 'his',\n",
              " 'how',\n",
              " 'i',\n",
              " 'if',\n",
              " 'in',\n",
              " 'into',\n",
              " 'is',\n",
              " 'isn',\n",
              " \"isn't\",\n",
              " 'it',\n",
              " \"it's\",\n",
              " 'its',\n",
              " 'itself',\n",
              " 'just',\n",
              " 'll',\n",
              " 'm',\n",
              " 'ma',\n",
              " 'me',\n",
              " 'mightn',\n",
              " \"mightn't\",\n",
              " 'more',\n",
              " 'most',\n",
              " 'mustn',\n",
              " \"mustn't\",\n",
              " 'my',\n",
              " 'myself',\n",
              " 'needn',\n",
              " \"needn't\",\n",
              " 'no',\n",
              " 'nor',\n",
              " 'not',\n",
              " 'now',\n",
              " 'o',\n",
              " 'of',\n",
              " 'off',\n",
              " 'on',\n",
              " 'once',\n",
              " 'only',\n",
              " 'or',\n",
              " 'other',\n",
              " 'our',\n",
              " 'ours',\n",
              " 'ourselves',\n",
              " 'out',\n",
              " 'over',\n",
              " 'own',\n",
              " 're',\n",
              " 's',\n",
              " 'same',\n",
              " 'shan',\n",
              " \"shan't\",\n",
              " 'she',\n",
              " \"she's\",\n",
              " 'should',\n",
              " \"should've\",\n",
              " 'shouldn',\n",
              " \"shouldn't\",\n",
              " 'so',\n",
              " 'some',\n",
              " 'such',\n",
              " 't',\n",
              " 'than',\n",
              " 'that',\n",
              " \"that'll\",\n",
              " 'the',\n",
              " 'their',\n",
              " 'theirs',\n",
              " 'them',\n",
              " 'themselves',\n",
              " 'then',\n",
              " 'there',\n",
              " 'these',\n",
              " 'they',\n",
              " 'this',\n",
              " 'those',\n",
              " 'through',\n",
              " 'to',\n",
              " 'too',\n",
              " 'under',\n",
              " 'until',\n",
              " 'up',\n",
              " 've',\n",
              " 'very',\n",
              " 'was',\n",
              " 'wasn',\n",
              " \"wasn't\",\n",
              " 'we',\n",
              " 'were',\n",
              " 'weren',\n",
              " \"weren't\",\n",
              " 'what',\n",
              " 'when',\n",
              " 'where',\n",
              " 'which',\n",
              " 'while',\n",
              " 'who',\n",
              " 'whom',\n",
              " 'why',\n",
              " 'will',\n",
              " 'with',\n",
              " 'won',\n",
              " \"won't\",\n",
              " 'wouldn',\n",
              " \"wouldn't\",\n",
              " 'y',\n",
              " 'you',\n",
              " \"you'd\",\n",
              " \"you'll\",\n",
              " \"you're\",\n",
              " \"you've\",\n",
              " 'your',\n",
              " 'yours',\n",
              " 'yourself',\n",
              " 'yourselves',\n",
              " '{',\n",
              " '|',\n",
              " '}',\n",
              " '~'}"
            ]
          },
          "execution_count": 9,
          "metadata": {},
          "output_type": "execute_result"
        }
      ],
      "source": [
        "stop_word_list"
      ]
    },
    {
      "cell_type": "code",
      "execution_count": null,
      "id": "45259842",
      "metadata": {
        "id": "45259842",
        "outputId": "8d2bfb3e-cac6-42ba-b660-8cdda4cb77fd"
      },
      "outputs": [
        {
          "name": "stderr",
          "output_type": "stream",
          "text": [
            "[nltk_data] Downloading package punkt to C:\\Users\\Zidane\n",
            "[nltk_data]     Khan\\AppData\\Roaming\\nltk_data...\n",
            "[nltk_data]   Package punkt is already up-to-date!\n"
          ]
        },
        {
          "data": {
            "text/plain": [
              "True"
            ]
          },
          "execution_count": 3,
          "metadata": {},
          "output_type": "execute_result"
        }
      ],
      "source": [
        "\n",
        "nltk.download('punkt')"
      ]
    },
    {
      "cell_type": "code",
      "execution_count": null,
      "id": "dcbc5ae5",
      "metadata": {
        "id": "dcbc5ae5"
      },
      "outputs": [],
      "source": [
        "doc1 = \"Hello sonu how are you. sonu is good boy.\".lower()\n",
        "doc2 = \"Ram is good boy\".lower()\n",
        "\n",
        "\n",
        "\n",
        ""
      ]
    },
    {
      "cell_type": "code",
      "execution_count": null,
      "id": "b88acd33",
      "metadata": {
        "id": "b88acd33"
      },
      "outputs": [],
      "source": [
        "doc1_tok = word_tokenize(doc1)\n",
        "doc2_tok = word_tokenize(doc2)\n",
        "\n",
        "\n"
      ]
    },
    {
      "cell_type": "code",
      "execution_count": null,
      "id": "2ac10993",
      "metadata": {
        "id": "2ac10993",
        "outputId": "f3c2de6d-558d-452d-fcd0-d4c2bd21c924"
      },
      "outputs": [
        {
          "data": {
            "text/plain": [
              "['hello', 'sonu', 'how', 'are', 'you', '.', 'sonu', 'is', 'good', 'boy', '.']"
            ]
          },
          "execution_count": 6,
          "metadata": {},
          "output_type": "execute_result"
        }
      ],
      "source": [
        "doc1_tok"
      ]
    },
    {
      "cell_type": "code",
      "execution_count": null,
      "id": "f87e9f99",
      "metadata": {
        "id": "f87e9f99",
        "outputId": "f378bd46-1ca2-4238-86bd-e9d9778636a4"
      },
      "outputs": [
        {
          "data": {
            "text/plain": [
              "['ram', 'is', 'good', 'boy']"
            ]
          },
          "execution_count": 7,
          "metadata": {},
          "output_type": "execute_result"
        }
      ],
      "source": [
        "doc2_tok"
      ]
    },
    {
      "cell_type": "code",
      "execution_count": null,
      "id": "02f9f886",
      "metadata": {
        "id": "02f9f886",
        "outputId": "ef587d31-6675-4969-97aa-296a36e9f321"
      },
      "outputs": [
        {
          "data": {
            "text/plain": [
              "['good', 'boy', 'ram', 'hello', 'sonu']"
            ]
          },
          "execution_count": 10,
          "metadata": {},
          "output_type": "execute_result"
        }
      ],
      "source": [
        "corpus = list(set(doc1_tok + doc2_tok))\n",
        "\n",
        "\n",
        "corpus_without_stop_word = [word for word in corpus if word not in stop_word_list]\n",
        "\n",
        "\n",
        "corpus_without_stop_word"
      ]
    },
    {
      "cell_type": "raw",
      "id": "970ca386",
      "metadata": {
        "id": "970ca386"
      },
      "source": []
    },
    {
      "cell_type": "code",
      "execution_count": null,
      "id": "11fff9d3",
      "metadata": {
        "id": "11fff9d3"
      },
      "outputs": [],
      "source": [
        "\n",
        "dic = {}\n",
        "\n",
        "for i in corpus_without_stop_word:\n",
        "  cnt = 0\n",
        "  doc = []\n",
        "  for j in range(len(doc1_tok)):\n",
        "    if i == doc1_tok[j]:\n",
        "      cnt += 1\n",
        "      doc.append(\"D1\")\n",
        "  for k in range(len(doc2_tok)):\n",
        "    if i == doc2_tok[k]:\n",
        "      cnt += 1\n",
        "      doc.append(\"D2\")\n",
        "  dic[i] = f\"{i} ->({doc}, {cnt} )\"\n"
      ]
    },
    {
      "cell_type": "code",
      "execution_count": null,
      "id": "dad74f01",
      "metadata": {
        "id": "dad74f01",
        "outputId": "22c80142-bac0-42cf-b6f3-68d6fbe100a5"
      },
      "outputs": [
        {
          "data": {
            "text/plain": [
              "{'good': \"good ->(['D1', 'D2'], 2 )\",\n",
              " 'boy': \"boy ->(['D1', 'D2'], 2 )\",\n",
              " 'ram': \"ram ->(['D2'], 1 )\",\n",
              " 'hello': \"hello ->(['D1'], 1 )\",\n",
              " 'sonu': \"sonu ->(['D1', 'D1'], 2 )\"}"
            ]
          },
          "execution_count": 12,
          "metadata": {},
          "output_type": "execute_result"
        }
      ],
      "source": [
        "dic"
      ]
    },
    {
      "cell_type": "code",
      "execution_count": null,
      "id": "e8c7199b",
      "metadata": {
        "scrolled": true,
        "id": "e8c7199b",
        "outputId": "c13a01f9-9ca0-4e20-b827-d6d703b3f82c"
      },
      "outputs": [
        {
          "data": {
            "text/plain": [
              "dict_keys(['good', 'boy', 'ram', 'hello', 'sonu'])"
            ]
          },
          "execution_count": 14,
          "metadata": {},
          "output_type": "execute_result"
        }
      ],
      "source": [
        "\n",
        "dic.keys()\n"
      ]
    },
    {
      "cell_type": "code",
      "execution_count": null,
      "id": "eea77cab",
      "metadata": {
        "id": "eea77cab",
        "outputId": "33c91f7f-4920-49b4-b338-92b4a277e9d4"
      },
      "outputs": [
        {
          "data": {
            "text/plain": [
              "\"good ->(['D1', 'D2'], 2 )\""
            ]
          },
          "execution_count": 15,
          "metadata": {},
          "output_type": "execute_result"
        }
      ],
      "source": [
        "\n",
        "def searchW(word):\n",
        "  if word.lower() in list(dic.keys()):\n",
        "    return dic[word]\n",
        "  else:\n",
        "    return \"not found\"\n",
        "\n",
        "\n",
        "searchW('good')"
      ]
    },
    {
      "cell_type": "code",
      "execution_count": null,
      "id": "b1a1c46a",
      "metadata": {
        "id": "b1a1c46a",
        "outputId": "72f462f3-5155-4e94-c8ca-176aafbc1616"
      },
      "outputs": [
        {
          "data": {
            "text/plain": [
              "['.', 'is', 'good', 'are', 'you', 'boy', 'ram', 'how', 'hello', 'sonu']"
            ]
          },
          "execution_count": 16,
          "metadata": {},
          "output_type": "execute_result"
        }
      ],
      "source": [
        "corpus"
      ]
    },
    {
      "cell_type": "code",
      "execution_count": null,
      "id": "862af727",
      "metadata": {
        "id": "862af727"
      },
      "outputs": [],
      "source": []
    }
  ],
  "metadata": {
    "kernelspec": {
      "display_name": "Python 3 (ipykernel)",
      "language": "python",
      "name": "python3"
    },
    "language_info": {
      "codemirror_mode": {
        "name": "ipython",
        "version": 3
      },
      "file_extension": ".py",
      "mimetype": "text/x-python",
      "name": "python",
      "nbconvert_exporter": "python",
      "pygments_lexer": "ipython3",
      "version": "3.10.5"
    },
    "colab": {
      "provenance": []
    }
  },
  "nbformat": 4,
  "nbformat_minor": 5
}